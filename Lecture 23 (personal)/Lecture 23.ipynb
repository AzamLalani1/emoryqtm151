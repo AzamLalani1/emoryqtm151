{
 "cells": [
  {
   "attachments": {},
   "cell_type": "markdown",
   "metadata": {},
   "source": [
    "# <span style=\"color:darkblue\"> Lecture 23 - Practicing Time and Plots  </span>\n",
    "\n",
    "<font size = \"5\">\n",
    "\n",
    "In  this lecture we will practice working with time in Python\n",
    "\n",
    "- There will be a quiz on this lecture\n"
   ]
  },
  {
   "attachments": {},
   "cell_type": "markdown",
   "metadata": {},
   "source": [
    "# <span style=\"color:darkblue\"> I. Review of time commands </span>\n",
    "\n",
    "<font size = \"5\">\n",
    "\n",
    "Line plot: $\\qquad \\qquad \\qquad \\quad \\ $ ``` plt.plot() ```\n",
    "\n",
    "Parse string column to date: $\\ $``` pd.to_datetime(data_column,format)```\n",
    "\n",
    "Date to string:  $\\qquad \\qquad \\quad \\ $ ```.dt.strftime(format)```\n",
    "\n",
    "Group by time period:\n",
    "$\\qquad \\ \\ $ ``` pd.Grouper(key='date', freq='m')```\n",
    "\n",
    "Include group as column: $\\quad$ ```.reset_index()```\n",
    "\n",
    "Difference between periods: $\\ $``` .diff() ```\n",
    "\n",
    "Lag a periods: $\\qquad \\qquad \\quad \\ $ ``` .shift(1) ```\n",
    "\n",
    "Between two periods (bool): $\\ $ ```.between(\"date1\",\"date2\")```\n",
    "\n",
    "Convert wide to long: $\\qquad \\quad $ ``` pd.melt(...) ```\n",
    "\n",
    "Convert long to wide: $\\qquad \\quad $ ``` pd.pivot(...) ```"
   ]
  },
  {
   "attachments": {},
   "cell_type": "markdown",
   "metadata": {},
   "source": [
    "## <span style=\"color:darkblue\"> II. Quiz Structure </span>\n",
    "\n",
    "<font size = \"5\">\n",
    "\n",
    "The day of the quiz I will ...\n",
    "- Provide a dataset with information\n",
    "- Give more specific instructions.\n",
    "- Below, you will see the type of questions that will be asked.\n",
    "- The idea is for you to apply known concepts to new data\n",
    "- You have 50 minutes to complete the assignment\n",
    "\n",
    "Questions\n",
    "\n",
    "(exact wording may change in quiz, but exercise will be very similar)\n",
    "\n",
    "The quiz will use a time series dataset\n"
   ]
  },
  {
   "attachments": {},
   "cell_type": "markdown",
   "metadata": {},
   "source": [
    "\n",
    "<font size = \"5\">\n",
    "\n",
    "(a) Import a dataset, parse date column using wildcards <br>\n",
    "$\\quad$ (see Lecture 21), and sort dataset\n",
    "\n",
    "(b) Line plots from multiple columns with a legend\n",
    "\n",
    "(c) Compute growth rates for a time series\n",
    "\n",
    "(d) Flag a subset of the data and produce a shaded plot <br>\n",
    "$\\quad$ as in Lecture 22\n",
    "\n",
    "(e) Compute aggregate dataset by time period\n",
    "\n",
    "(f) Convert a dataset to long format\n"
   ]
  },
  {
   "cell_type": "code",
   "execution_count": null,
   "metadata": {},
   "outputs": [],
   "source": [
    "financial[\"date\"] = pd.to_datetime(financial[\"date_str\"])\n",
    "\n",
    "financial[\"month_str\"] = financial[\"date\"].dt.strftime(\"%m\")\n",
    "\n",
    "date2 = pd.to_datetime(financial[\"date_ex2\"], format = \"%A, %Y-%m-%d\")"
   ]
  },
  {
   "cell_type": "code",
   "execution_count": null,
   "metadata": {},
   "outputs": [],
   "source": [
    "# Enter the x-axis column and y-axis columns you \n",
    "# wish to include. Specify the x-axis column with \"set_index()\"\n",
    "# This applies to any line plot, with or without dates\n",
    "# The legend is the box with the name of the lines\n",
    "# If you drop the \".legend()\" command this will assign\n",
    "# the default column names to the legend.\n",
    "\n",
    "\n",
    "financial[[\"date\",\"sp500\",\"djia\"]].set_index(\"date\").plot()\n",
    "plt.xlabel(\"Time\")\n",
    "plt.ylabel(\"Value of Index Funds\")\n",
    "plt.legend([\"S&P 500\",\"Dow Jones\"])"
   ]
  },
  {
   "cell_type": "code",
   "execution_count": null,
   "metadata": {},
   "outputs": [],
   "source": [
    "financial[\"diff_sp500\"] = financial[\"sp500\"].diff()\n",
    "\n",
    "financial[\"lag_sp500\"]    = financial[\"sp500\"].shift(1)\n",
    "financial[\"growth_sp500\"] = financial[\"diff_sp500\"]* 100/financial[\"lag_sp500\"]\n",
    "\n",
    "plt.plot(\"date\", \"growth_sp500\",\n",
    "          data = financial.sort_values(\"date\",ascending = True))\n",
    "plt.xlabel(\"Time\")\n",
    "plt.ylabel(\"Daily percentage change \")\n",
    "plt.title(\"Change in the S&P 500 Index\")"
   ]
  }
 ],
 "metadata": {
  "kernelspec": {
   "display_name": "Python 3",
   "language": "python",
   "name": "python3"
  },
  "language_info": {
   "codemirror_mode": {
    "name": "ipython",
    "version": 3
   },
   "file_extension": ".py",
   "mimetype": "text/x-python",
   "name": "python",
   "nbconvert_exporter": "python",
   "pygments_lexer": "ipython3",
   "version": "3.8.2 (default, Dec 21 2020, 15:06:04) \n[Clang 12.0.0 (clang-1200.0.32.29)]"
  },
  "orig_nbformat": 4,
  "vscode": {
   "interpreter": {
    "hash": "31f2aee4e71d21fbe5cf8b01ff0e069b9275f58929596ceb00d14d90e3e16cd6"
   }
  }
 },
 "nbformat": 4,
 "nbformat_minor": 2
}
