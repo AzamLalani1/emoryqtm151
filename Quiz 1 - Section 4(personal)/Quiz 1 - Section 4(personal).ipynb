{
 "cells": [
  {
   "attachments": {},
   "cell_type": "markdown",
   "metadata": {},
   "source": [
    "# <span style=\"color:darkblue\"> QTM 151 - Quiz 1 </span>"
   ]
  },
  {
   "attachments": {},
   "cell_type": "markdown",
   "metadata": {},
   "source": [
    "## Try to submit as an HTML file"
   ]
  },
  {
   "attachments": {},
   "cell_type": "markdown",
   "metadata": {},
   "source": [
    "<font size=\"5\"> \n",
    "\n",
    "Print your name below"
   ]
  },
  {
   "cell_type": "code",
   "execution_count": 1,
   "metadata": {},
   "outputs": [
    {
     "name": "stdout",
     "output_type": "stream",
     "text": [
      "Azam Lalani\n"
     ]
    }
   ],
   "source": [
    "# Write your own code\n",
    "\n",
    "print(\"Azam Lalani\")"
   ]
  },
  {
   "attachments": {},
   "cell_type": "markdown",
   "metadata": {},
   "source": [
    "<font size = \"5\" >\n",
    "This quiz is open book \n",
    "\n",
    "- You can use the lecture notes\n",
    "- You will get partial credit for attempting the questions\n",
    "- To get full credit, the code should run as intended\n",
    "- You should <span style=\"color:red\"> NOT </span> communicate with other students\n",
    "\n",
    "Print the following message: <br>\n",
    "\n",
    "\"I will abide by Emory's code of conduct\"\n"
   ]
  },
  {
   "cell_type": "code",
   "execution_count": 2,
   "metadata": {},
   "outputs": [
    {
     "name": "stdout",
     "output_type": "stream",
     "text": [
      "I will abide by Emory code of conduct\n"
     ]
    }
   ],
   "source": [
    "## Write your own code\n",
    "\n",
    "print(\"I will abide by Emory code of conduct\")"
   ]
  },
  {
   "attachments": {},
   "cell_type": "markdown",
   "metadata": {},
   "source": [
    "<font size = \"5\">\n",
    "\n",
    "Import the libraries \"numpy\", \"matplotlib.pytplot\", and \"pandas\""
   ]
  },
  {
   "cell_type": "code",
   "execution_count": 1,
   "metadata": {},
   "outputs": [],
   "source": [
    "# Write your own code\n",
    "\n",
    "import pandas as pd\n",
    "import numpy as np\n",
    "import matplotlib as plt"
   ]
  },
  {
   "attachments": {},
   "cell_type": "markdown",
   "metadata": {},
   "source": [
    "## <span style=\"color:darkblue\"> Part I: Visualizing random variables </span>\n",
    "\n"
   ]
  },
  {
   "attachments": {},
   "cell_type": "markdown",
   "metadata": {},
   "source": [
    "<font size = \"5\">\n",
    "\n",
    "(a) Create two random variables ...\n",
    "\n",
    "\n",
    "- Call them \"vec_x\" and \"vec_z\"\n",
    "- Generate \"vec_x\" from a chi-square with (df = 5, size = 1000)\n",
    "- Generate \"vec_z\" from a chi-square distribution with (df = 1, size = 1000)\n",
    "- Plot a histogram of each variable\n",
    "    - Label the axes and title\n",
    "    - Each graph should have a different title\n",
    " \n",
    "To get full points, plot the histograms on a grid (See Lecture 6)"
   ]
  },
  {
   "cell_type": "code",
   "execution_count": 3,
   "metadata": {},
   "outputs": [
    {
     "ename": "AttributeError",
     "evalue": "module 'matplotlib' has no attribute 'subplots'",
     "output_type": "error",
     "traceback": [
      "\u001b[0;31m---------------------------------------------------------------------------\u001b[0m",
      "\u001b[0;31mAttributeError\u001b[0m                            Traceback (most recent call last)",
      "Cell \u001b[0;32mIn[3], line 8\u001b[0m\n\u001b[1;32m      5\u001b[0m vec_x  \u001b[39m=\u001b[39m np\u001b[39m.\u001b[39mrandom\u001b[39m.\u001b[39mchisquare(df \u001b[39m=\u001b[39m \u001b[39m5\u001b[39m, size \u001b[39m=\u001b[39m n)\n\u001b[1;32m      6\u001b[0m vec_z  \u001b[39m=\u001b[39m np\u001b[39m.\u001b[39mrandom\u001b[39m.\u001b[39mchisquare(df \u001b[39m=\u001b[39m \u001b[39m1\u001b[39m, size \u001b[39m=\u001b[39m n)\n\u001b[0;32m----> 8\u001b[0m fig, list_subfig \u001b[39m=\u001b[39m plt\u001b[39m.\u001b[39;49msubplots(\u001b[39m1\u001b[39m,\u001b[39m2\u001b[39m,figsize \u001b[39m=\u001b[39m (\u001b[39m10\u001b[39m,\u001b[39m3\u001b[39m))\n\u001b[1;32m     10\u001b[0m \u001b[39m# First Figure\u001b[39;00m\n\u001b[1;32m     11\u001b[0m list_subfig[\u001b[39m0\u001b[39m]\u001b[39m.\u001b[39mhist(x \u001b[39m=\u001b[39m vec_x)\n",
      "File \u001b[0;32m/Library/Frameworks/Python.framework/Versions/3.11/lib/python3.11/site-packages/matplotlib/_api/__init__.py:224\u001b[0m, in \u001b[0;36mcaching_module_getattr.<locals>.__getattr__\u001b[0;34m(name)\u001b[0m\n\u001b[1;32m    222\u001b[0m \u001b[39mif\u001b[39;00m name \u001b[39min\u001b[39;00m props:\n\u001b[1;32m    223\u001b[0m     \u001b[39mreturn\u001b[39;00m props[name]\u001b[39m.\u001b[39m\u001b[39m__get__\u001b[39m(instance)\n\u001b[0;32m--> 224\u001b[0m \u001b[39mraise\u001b[39;00m \u001b[39mAttributeError\u001b[39;00m(\n\u001b[1;32m    225\u001b[0m     \u001b[39mf\u001b[39m\u001b[39m\"\u001b[39m\u001b[39mmodule \u001b[39m\u001b[39m{\u001b[39;00m\u001b[39mcls\u001b[39m\u001b[39m.\u001b[39m\u001b[39m__module__\u001b[39m\u001b[39m!r}\u001b[39;00m\u001b[39m has no attribute \u001b[39m\u001b[39m{\u001b[39;00mname\u001b[39m!r}\u001b[39;00m\u001b[39m\"\u001b[39m)\n",
      "\u001b[0;31mAttributeError\u001b[0m: module 'matplotlib' has no attribute 'subplots'"
     ]
    }
   ],
   "source": [
    "# Write your own code\n",
    "\n",
    "n = 1000\n",
    "\n",
    "vec_x  = np.random.chisquare(df = 5, size = n)\n",
    "vec_z  = np.random.chisquare(df = 1, size = n)\n",
    "\n",
    "fig, list_subfig = plt.subplots(1,2,figsize = (10,3))\n",
    "\n",
    "# First Figure\n",
    "list_subfig[0].hist(x = vec_x)\n",
    "list_subfig[0].set_title(\"Chi Squared, df = 5\")\n",
    "list_subfig[0].set_xlabel(\"Value\")\n",
    "list_subfig[0].set_ylabel(\"Frequency\")\n",
    "\n",
    "# Second Figure\n",
    "list_subfig[1].hist(x = vec_z)\n",
    "list_subfig[1].set_title(\"Chi Squared, df = 1\")\n",
    "list_subfig[1].set_xlabel(\"Value\")\n",
    "list_subfig[1].set_ylabel(\"Frequency\")"
   ]
  },
  {
   "attachments": {},
   "cell_type": "markdown",
   "metadata": {},
   "source": [
    "<font size = \"5\">\n",
    "\n",
    "(b) Create a new variable \"vec_y\" by the formula\n",
    "\n",
    "$ y = sin(x) + 2x + 5$\n",
    "\n",
    "- Use element-by-element vector operations (no loops)\n",
    "- Produce a scatter plot of \"vec_y\" against \"vec_x\"\n",
    "- Label the axes and the title\n",
    "- Change the color to \"red\", \"green\" or \"purple\" (you choose)\n",
    "\n",
    "Hint: You can use the numpy \"sin()\" function with vector arrays"
   ]
  },
  {
   "cell_type": "code",
   "execution_count": 4,
   "metadata": {},
   "outputs": [
    {
     "ename": "AttributeError",
     "evalue": "module 'matplotlib' has no attribute 'scatter'",
     "output_type": "error",
     "traceback": [
      "\u001b[0;31m---------------------------------------------------------------------------\u001b[0m",
      "\u001b[0;31mAttributeError\u001b[0m                            Traceback (most recent call last)",
      "Cell \u001b[0;32mIn[4], line 5\u001b[0m\n\u001b[1;32m      1\u001b[0m \u001b[39m# Write your own code\u001b[39;00m\n\u001b[1;32m      3\u001b[0m vec_y \u001b[39m=\u001b[39m np\u001b[39m.\u001b[39msin(vec_x) \u001b[39m+\u001b[39m \u001b[39m2\u001b[39m\u001b[39m*\u001b[39mvec_x \u001b[39m+\u001b[39m \u001b[39m5\u001b[39m\n\u001b[0;32m----> 5\u001b[0m plt\u001b[39m.\u001b[39;49mscatter(list_x, list_y)\n\u001b[1;32m      6\u001b[0m plt\u001b[39m.\u001b[39mxlabel(\u001b[39m\"\u001b[39m\u001b[39mX-axis\u001b[39m\u001b[39m\"\u001b[39m)\n\u001b[1;32m      7\u001b[0m plt\u001b[39m.\u001b[39mylabel(\u001b[39m\"\u001b[39m\u001b[39mY-axis\u001b[39m\u001b[39m\"\u001b[39m)\n",
      "File \u001b[0;32m/Library/Frameworks/Python.framework/Versions/3.11/lib/python3.11/site-packages/matplotlib/_api/__init__.py:224\u001b[0m, in \u001b[0;36mcaching_module_getattr.<locals>.__getattr__\u001b[0;34m(name)\u001b[0m\n\u001b[1;32m    222\u001b[0m \u001b[39mif\u001b[39;00m name \u001b[39min\u001b[39;00m props:\n\u001b[1;32m    223\u001b[0m     \u001b[39mreturn\u001b[39;00m props[name]\u001b[39m.\u001b[39m\u001b[39m__get__\u001b[39m(instance)\n\u001b[0;32m--> 224\u001b[0m \u001b[39mraise\u001b[39;00m \u001b[39mAttributeError\u001b[39;00m(\n\u001b[1;32m    225\u001b[0m     \u001b[39mf\u001b[39m\u001b[39m\"\u001b[39m\u001b[39mmodule \u001b[39m\u001b[39m{\u001b[39;00m\u001b[39mcls\u001b[39m\u001b[39m.\u001b[39m\u001b[39m__module__\u001b[39m\u001b[39m!r}\u001b[39;00m\u001b[39m has no attribute \u001b[39m\u001b[39m{\u001b[39;00mname\u001b[39m!r}\u001b[39;00m\u001b[39m\"\u001b[39m)\n",
      "\u001b[0;31mAttributeError\u001b[0m: module 'matplotlib' has no attribute 'scatter'"
     ]
    }
   ],
   "source": [
    "# Write your own code\n",
    "\n",
    "vec_y = np.sin(vec_x) + 2*vec_x + 5\n",
    "\n",
    "plt.scatter(list_x, list_y)\n",
    "plt.xlabel(\"X-axis\")\n",
    "plt.ylabel(\"Y-axis\")\n",
    "plt.colors(\"red\")"
   ]
  },
  {
   "cell_type": "markdown",
   "metadata": {},
   "source": [
    "## <span style=\"color:darkblue\"> Part II: Operations over multiple datasets </span>\n",
    "\n"
   ]
  },
  {
   "attachments": {},
   "cell_type": "markdown",
   "metadata": {},
   "source": [
    "<font size = \"5\">\n",
    "\n",
    "(c) Create two lists with ...\n",
    "\n",
    "- The names of the datasets\n",
    "- The years of the datasets (type manually based on the dataset names)\n",
    "\n",
    "To answer this question, you need to browse the Quiz folder\n",
    "\n",
    "You will find three datasets on worldwide CO2 emissions"
   ]
  },
  {
   "cell_type": "code",
   "execution_count": 30,
   "metadata": {},
   "outputs": [],
   "source": [
    "# Write your own code\n",
    "\n",
    "year2005 = pd.read_csv(\"data_quiz/wdi_co2_2005.csv\")\n",
    "year2010 = pd.read_csv(\"data_quiz/wdi_co2_2010.csv\")\n",
    "year2015 = pd.read_csv(\"data_quiz/wdi_co2_2015.csv\")\n",
    "\n",
    "list_names = list[\"year2005\",\"year2010\",\"year2015\"]\n",
    "list_years = [2005,2010,2015]\n"
   ]
  },
  {
   "attachments": {},
   "cell_type": "markdown",
   "metadata": {},
   "source": [
    "<font size = \"5\">\n",
    "\n",
    "(d) Create a loop that ...\n",
    "\n",
    "\n",
    "- Goes over the list of years\n",
    "- If the year $\\ge$ 2012, print the message\n",
    "\n",
    "$\\qquad$ \"This dataset contains information on or after 2012.\n",
    "\n",
    "- If the year $<$ 2012, print the message\n",
    "\n",
    "$\\qquad$ \"This dataset contains information before 2012\""
   ]
  },
  {
   "cell_type": "code",
   "execution_count": 31,
   "metadata": {},
   "outputs": [
    {
     "name": "stdout",
     "output_type": "stream",
     "text": [
      "This dataset contains information before 2012\n",
      "This dataset contains information before 2012\n",
      "This dataset contains information on or after 2012\n"
     ]
    }
   ],
   "source": [
    "# Write your own code\n",
    "\n",
    "index = 0\n",
    "\n",
    "for years in list_years:\n",
    "    if (list_years[index]>=2012):\n",
    "        print(\"This dataset contains information on or after 2012\")\n",
    "    elif (list_years[index]<2012):\n",
    "        print(\"This dataset contains information before 2012\")\n",
    "    index = index + 1\n"
   ]
  },
  {
   "attachments": {},
   "cell_type": "markdown",
   "metadata": {},
   "source": [
    "<font size = \"5\">\n",
    "\n",
    "(e) Your goal is to convert all the \".csv\" data files to \".xlsx\" (Excel) files\n",
    "\n",
    "<font size = \"3\">\n",
    "\n",
    "- Create a list with the \".csv\" dataset names (including their relative subfolder \"data_quiz/)\n",
    "- Create a new list called \"list_newnames\", with each element ending in \".xlsx\" (including the subfolder \"data_excel/\")\n",
    "- Start an index\n",
    "\n",
    "$\\qquad$ index = 0\n",
    "\n",
    "- Initiate a for loop over the list of dataset names. Inside the loop:\n",
    "    - Read the \".csv\" dataset and store it in an object called \"dataset\"\n",
    "    - Create a variable called \"filename\" from the \"list_newnames\", extracting the element \"index\"\n",
    "    - Store \"dataset\" as an excel file with name \"filename\".\n",
    "\n",
    "    $\\qquad$ index = index + 1\n",
    "\n",
    "Note: Check that you did it correctly by trying to open your new excel files outside \"VSCode\""
   ]
  },
  {
   "cell_type": "code",
   "execution_count": null,
   "metadata": {},
   "outputs": [],
   "source": [
    "# Write your own code\n",
    "\n",
    "list_datasets = [\"data_quiz/wdi_co2_2005.csv\",\"data_quiz/wdi_co2_2010.csv\",\"data_quiz/wdi_co2_2015.csv\"]\n",
    "list_newnames = []\n",
    "\n",
    "index = 0\n",
    "\n",
    "for file in list_datasets:\n",
    "    dataset = pd.read_csv(file)\n",
    "    filename = index\n",
    "    filename = dataset.to_excel(\"data_excel/\") + str(filename) + (\".xlsx\")\n",
    "    list_newnames.append(filename)\n",
    "    index = index + 1\n"
   ]
  },
  {
   "attachments": {},
   "cell_type": "markdown",
   "metadata": {},
   "source": [
    "<font size = \"5\">\n",
    "\n",
    "(f) Your goal is to open each dataset, create a new variable, then plot\n",
    "\n",
    "\n",
    "<font size = \"3\">\n",
    "\n",
    "- Create a list with the \".csv\" dataset names (including their relative subfolder \"data_quiz/)\n",
    "- Start an index\n",
    "\n",
    "$\\qquad$ index = 0\n",
    "\n",
    "- Initiate a for loop over the list of dataset names. Inside the loop:\n",
    "    - Read the dataset and store it in an object called \"dataset\"\n",
    "    - Create two new variables as\n",
    "    \n",
    "    $\\qquad$ co2_gasfuel_kt = dataset[\"co2_gasfuel_kt\"] <br>\n",
    "    $\\qquad$ co2_liquidfuel_kt = dataset[\"co2_liquidfuel_kt\"] \n",
    "\n",
    "    - Calculate the total CO2 emissions driven by gas and liquid fuel by adding the two previous variables.\n",
    "    - Plot a histogram and label the axes\n",
    "    - Use plt.show() to display the plot\n",
    "    - Write\n",
    "\n",
    "    $\\qquad$ index = index + 1\n",
    "\n",
    "\n",
    "This should produce a histogram for each dataset"
   ]
  },
  {
   "cell_type": "code",
   "execution_count": null,
   "metadata": {},
   "outputs": [],
   "source": [
    "# Write your own code\n",
    "\n",
    "list_dataset_2 = [\"data_quiz/wdi_co2_2005.csv\",\"data_quiz/wdi_co2_2010.csv\",\"data_quiz/wdi_co2_2015.csv\"]\n",
    "index = 0\n",
    "\n",
    "for name in list_dataset_2:\n",
    "    dataset2 = pd.read_csv(name)\n",
    "    co2_gasfuel_kt = dataset2[\"co2_gasfuel_kt\"]\n",
    "    co2_liquidfuel_kt = dataset2[\"co2_liquidfuel_kt\"]\n",
    "    total_co2 = co2_gasfuel_kt + co2_liquidfuel_kt\n",
    "    plt.hist(x=total_co2)\n",
    "    plt.title(\"Total CO2 in 2005\")\n",
    "    plt.ylabel(\"Total CO2 in kilotons\")\n",
    "    plt.xlabel(\"Year\")\n",
    "    plt.show()  \n",
    "    index = index +1"
   ]
  }
 ],
 "metadata": {
  "kernelspec": {
   "display_name": "Python 3",
   "language": "python",
   "name": "python3"
  },
  "language_info": {
   "codemirror_mode": {
    "name": "ipython",
    "version": 3
   },
   "file_extension": ".py",
   "mimetype": "text/x-python",
   "name": "python",
   "nbconvert_exporter": "python",
   "pygments_lexer": "ipython3",
   "version": "3.11.1"
  },
  "orig_nbformat": 4,
  "vscode": {
   "interpreter": {
    "hash": "aee8b7b246df8f9039afb4144a1f6fd8d2ca17a180786b69acc140d282b71a49"
   }
  }
 },
 "nbformat": 4,
 "nbformat_minor": 2
}
