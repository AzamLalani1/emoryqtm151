{
 "cells": [
  {
   "attachments": {},
   "cell_type": "markdown",
   "metadata": {},
   "source": [
    "# <span style=\"color:darkblue\"> Lecture 2: Variables and Lists </span>"
   ]
  },
  {
   "attachments": {},
   "cell_type": "markdown",
   "metadata": {},
   "source": [
    "<font size=\"5\"> \n",
    "\n",
    "In the previous class we:\n",
    "- Reviewed the basic structure of Jupyter notebooks\n",
    "- Showed how to install and import libraries"
   ]
  },
  {
   "attachments": {},
   "cell_type": "markdown",
   "metadata": {},
   "source": [
    "<font size=\"5\"> \n",
    "\n",
    "In this class we will:\n",
    "\n",
    "- Introduce variables and lists\n",
    "- Compute a histogram plot\n",
    "- (Optional) Common pitfalls and understanding errors"
   ]
  },
  {
   "attachments": {},
   "cell_type": "markdown",
   "metadata": {},
   "source": [
    "# <span style=\"color:darkblue\"> Import Libraries </span>"
   ]
  },
  {
   "cell_type": "code",
<<<<<<< Updated upstream
   "execution_count": 3,
=======
   "execution_count": 1,
>>>>>>> Stashed changes
   "metadata": {},
   "outputs": [],
   "source": [
    "# The matplotlib library is used to create graphs\n",
    "\n",
    "import matplotlib.pyplot as plt"
   ]
  },
  {
   "attachments": {},
   "cell_type": "markdown",
   "metadata": {},
   "source": [
    "## "
   ]
  },
  {
   "attachments": {},
   "cell_type": "markdown",
   "metadata": {},
   "source": [
    "# <span style=\"color:darkblue\"> Variables and Data Types </span>"
   ]
  },
  {
   "attachments": {},
   "cell_type": "markdown",
   "metadata": {},
   "source": [
    "<font size=\"5\"> \n",
    "\n",
    "Identify the type of object\n",
    "- Integers, Floats (numbers with decimals) or strings (text)\n",
    "- Type is a function, with an argument in parenthesis (...)"
   ]
  },
  {
   "cell_type": "code",
   "execution_count": 22,
   "metadata": {},
   "outputs": [
    {
     "data": {
      "text/plain": [
       "int"
      ]
     },
     "execution_count": 22,
     "metadata": {},
     "output_type": "execute_result"
    }
   ],
   "source": [
    "type(3)"
   ]
  },
  {
   "cell_type": "code",
   "execution_count": 23,
   "metadata": {},
   "outputs": [
    {
     "data": {
      "text/plain": [
       "float"
      ]
     },
     "execution_count": 23,
     "metadata": {},
     "output_type": "execute_result"
    }
   ],
   "source": [
    "type(3.5)"
   ]
  },
  {
   "cell_type": "code",
   "execution_count": 24,
   "metadata": {},
   "outputs": [
    {
     "data": {
      "text/plain": [
       "str"
      ]
     },
     "execution_count": 24,
     "metadata": {},
     "output_type": "execute_result"
    }
   ],
   "source": [
    "type('hello')"
   ]
  },
  {
   "cell_type": "code",
   "execution_count": 25,
   "metadata": {},
   "outputs": [
    {
     "data": {
      "text/plain": [
       "str"
      ]
     },
     "execution_count": 25,
     "metadata": {},
     "output_type": "execute_result"
    }
   ],
   "source": [
    "# You can define strings with either single or double quotations.\n",
    "type(\"hello\")"
   ]
  },
  {
   "attachments": {},
   "cell_type": "markdown",
   "metadata": {},
   "source": [
    "<font size=\"5\"> \n",
    "\n",
    "Store Variables in memory\n",
    "\n",
    "- Assign variables with \"=\"\n",
    "- Write meaningful names, without spaces\n",
    "- Can use underscore \"_\"\n",
    "- Click \"Variables\" in the top panel of Jupyter Notebooks"
   ]
  },
  {
   "cell_type": "code",
<<<<<<< Updated upstream
   "execution_count": 11,
=======
   "execution_count": 4,
>>>>>>> Stashed changes
   "metadata": {},
   "outputs": [],
   "source": [
    "# Try choosing your names on the left of \"=\"\n",
    "\n",
    "number3        = 3\n",
    "number3andhalf = 3.5\n",
    "message_hello  = \"hello\""
   ]
  },
  {
   "cell_type": "code",
<<<<<<< Updated upstream
   "execution_count": 10,
=======
   "execution_count": 3,
>>>>>>> Stashed changes
   "metadata": {},
   "outputs": [
    {
     "ename": "NameError",
     "evalue": "name 'number3' is not defined",
     "output_type": "error",
     "traceback": [
      "\u001b[0;31m---------------------------------------------------------------------------\u001b[0m",
      "\u001b[0;31mNameError\u001b[0m                                 Traceback (most recent call last)",
<<<<<<< Updated upstream
      "Cell \u001b[0;32mIn[10], line 4\u001b[0m\n\u001b[1;32m      1\u001b[0m \u001b[39m# You can show the output by writing the name of the variable\u001b[39;00m\n\u001b[1;32m      2\u001b[0m \u001b[39m# Try including different variables\u001b[39;00m\n\u001b[0;32m----> 4\u001b[0m number3\n",
=======
      "Cell \u001b[0;32mIn[3], line 4\u001b[0m\n\u001b[1;32m      1\u001b[0m \u001b[39m# You can show the output by writing the name of the variable\u001b[39;00m\n\u001b[1;32m      2\u001b[0m \u001b[39m# Try including different variables\u001b[39;00m\n\u001b[0;32m----> 4\u001b[0m number3\n",
>>>>>>> Stashed changes
      "\u001b[0;31mNameError\u001b[0m: name 'number3' is not defined"
     ]
    }
   ],
   "source": [
    "# You can show the output by writing the name of the variable\n",
    "# Try including different variables\n",
    "\n",
    "number3"
   ]
  },
  {
   "cell_type": "code",
   "execution_count": 28,
   "metadata": {},
   "outputs": [
    {
     "name": "stdout",
     "output_type": "stream",
     "text": [
      "3\n",
      "3.5\n"
     ]
    }
   ],
   "source": [
    "# Jupyter only shows the output for the last object\n",
    "# You can show multiple outputs by using the function \"print\"\n",
    "\n",
    "print(number3)\n",
    "print(number3andhalf)"
   ]
  },
  {
   "attachments": {},
   "cell_type": "markdown",
   "metadata": {},
   "source": [
    "<font size=\"5\"> \n",
    "\n",
    "Basic operations on integers and floats\n",
    "\n",
    "- Addition (+), Multiplication (*), Subtraction (-), Division (/), Exponentiation (**)\n",
    "- If you try this on a string it will not work"
   ]
  },
  {
   "cell_type": "code",
   "execution_count": 29,
   "metadata": {},
   "outputs": [
    {
     "name": "stdout",
     "output_type": "stream",
     "text": [
      "6\n",
      "5\n",
      "1\n",
      "1.5\n",
      "9\n"
     ]
    }
   ],
   "source": [
    "# Basic operations on numbers\n",
    "print(3*2)\n",
    "print(3+2)\n",
    "print(3-2)\n",
    "print(3/2)\n",
    "print(3**2)"
   ]
  },
  {
   "attachments": {},
   "cell_type": "markdown",
   "metadata": {},
   "source": [
    "<font size=\"5\"> \n",
    "\n",
    "Use parenthesis for composite operations"
   ]
  },
  {
   "cell_type": "code",
   "execution_count": 30,
   "metadata": {},
   "outputs": [
    {
     "data": {
      "text/plain": [
       "1.4"
      ]
     },
     "execution_count": 30,
     "metadata": {},
     "output_type": "execute_result"
    }
   ],
   "source": [
    "(3 + 4) / 5"
   ]
  },
  {
   "cell_type": "code",
<<<<<<< Updated upstream
   "execution_count": 31,
=======
   "execution_count": 5,
>>>>>>> Stashed changes
   "metadata": {},
   "outputs": [
    {
     "data": {
      "text/plain": [
       "1.4"
      ]
     },
     "execution_count": 5,
     "metadata": {},
     "output_type": "execute_result"
    }
   ],
   "source": [
    "# Try doing the same with the variable \"number3\" or \"number3andhalf instead.\n",
    "\n",
    "(number3+4)/5\n"
   ]
  },
  {
   "attachments": {},
   "cell_type": "markdown",
   "metadata": {},
   "source": [
    "<font size=\"5\"> \n",
    "\n",
    "Concatenate \"add\" two strings"
   ]
  },
  {
   "cell_type": "code",
   "execution_count": 32,
   "metadata": {},
   "outputs": [
    {
     "data": {
      "text/plain": [
       "'My name is David'"
      ]
     },
     "execution_count": 32,
     "metadata": {},
     "output_type": "execute_result"
    }
   ],
   "source": [
    "# Use the + symbol to concatenate two or more strings\n",
    "# This is very useful to contract strings where one part stays the same,\n",
    "# and the other is a user input.\n",
    "\n",
    "name = \"David\"\n",
    "\n",
    "\"My name is \"  + name"
   ]
  },
  {
   "attachments": {},
   "cell_type": "markdown",
   "metadata": {},
   "source": [
    "# <span style=\"color:darkblue\"> Lists </span>"
   ]
  },
  {
   "attachments": {},
   "cell_type": "markdown",
   "metadata": {},
   "source": [
    "<font size=\"5\"> \n",
    "\n",
    "Store Lists\n",
    "\n",
    "- Lists are always denote by square brackets [...]\n",
    "- Elements separated by commas"
   ]
  },
  {
   "cell_type": "code",
   "execution_count": 6,
   "metadata": {},
   "outputs": [],
   "source": [
    "# List of numbers\n",
    "# Example: Suppose you ask 5 people about their favorite color. The results:\n",
    "list_numbers     = [1,2,3,4,5]\n",
    "list_numbers_sqr = [1,4,9,16,25]"
   ]
  },
  {
   "cell_type": "code",
   "execution_count": 34,
   "metadata": {},
   "outputs": [],
   "source": [
    "# List with strings\n",
    "# Example: Suppose you ask 5 people about their favorite color. The results:\n",
    "list_colors = [\"red\",\"yellow\",\"yellow\", \"green\",\"red\"]"
   ]
  },
  {
   "cell_type": "code",
   "execution_count": 35,
   "metadata": {},
   "outputs": [],
   "source": [
    "# List with mixed types\n",
    "list_mixedtype = [\"red\",1,\"yellow\",4,5]"
   ]
  },
  {
   "attachments": {},
   "cell_type": "markdown",
   "metadata": {},
   "source": [
    "<font size=\"5\">\n",
    "\n",
    "Extract individual elements from a list\n",
    "\n",
    "- Use square brackets, e.g. list_colors[2]\n",
    "- Python lists always start at the **ZERO** position\n",
    "\n",
    "\n",
    "<img src=\"figures/house_diagram.png\" alt=\"drawing\" width=\"650\"/>"
   ]
  },
  {
   "cell_type": "code",
   "execution_count": 36,
   "metadata": {},
   "outputs": [
    {
     "data": {
      "text/plain": [
       "'ground'"
      ]
     },
     "execution_count": 36,
     "metadata": {},
     "output_type": "execute_result"
    }
   ],
   "source": [
    "floors_england = [\"ground\", \"floor1\", \"floor2\" ]\n",
    "\n",
    "floors_england[0]"
   ]
  },
  {
   "cell_type": "code",
   "execution_count": 37,
   "metadata": {},
   "outputs": [
    {
     "name": "stdout",
     "output_type": "stream",
     "text": [
      "red\n",
      "yellow\n",
      "yellow\n",
      "green\n",
      "red\n"
     ]
    }
   ],
   "source": [
    "# Use print to show the output of multiple commands\n",
    "print(list_colors[0])\n",
    "print(list_colors[1])\n",
    "print(list_colors[2])\n",
    "print(list_colors[3])\n",
    "print(list_colors[4])"
   ]
  },
  {
   "cell_type": "code",
   "execution_count": 38,
   "metadata": {},
   "outputs": [],
   "source": [
    "# Try creating a list with four elements, and then selecting the third entry\n",
    "\n"
   ]
  },
  {
   "attachments": {},
   "cell_type": "markdown",
   "metadata": {},
   "source": [
    "# <span style=\"color:darkblue\"> Visualizing Lists </span>"
   ]
  },
  {
   "attachments": {},
   "cell_type": "markdown",
   "metadata": {},
   "source": [
    "<font size=\"5\"> \n",
    "\n",
    "A histogram for categorical data"
   ]
  },
  {
   "cell_type": "code",
   "execution_count": 39,
   "metadata": {},
   "outputs": [
    {
     "data": {
      "text/plain": [
       "(array([2., 0., 0., 0., 0., 2., 0., 0., 0., 1.]),\n",
       " array([0. , 0.2, 0.4, 0.6, 0.8, 1. , 1.2, 1.4, 1.6, 1.8, 2. ]),\n",
       " <BarContainer object of 10 artists>)"
      ]
     },
     "execution_count": 39,
     "metadata": {},
     "output_type": "execute_result"
    },
    {
     "data": {
      "image/png": "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",
      "text/plain": [
       "<Figure size 640x480 with 1 Axes>"
      ]
     },
     "metadata": {},
     "output_type": "display_data"
    }
   ],
   "source": [
    "# This creates a histogram with the \"list_colors\"\n",
    "plt.hist(x= list_colors)"
   ]
  },
  {
   "cell_type": "code",
   "execution_count": null,
   "metadata": {},
   "outputs": [],
   "source": [
    "# Creat a list with repeated string values\n",
    "# Compute your own histogram\n",
    "\n",
    "list = [\"Mercedes, BMW, Audi, Rolls Royce\"]\n",
    "plt.hist(x=list)"
   ]
  },
  {
   "attachments": {},
   "cell_type": "markdown",
   "metadata": {},
   "source": [
    "<font size=\"5\"> \n",
    "\n",
    "A histogram for continuous data"
   ]
  },
  {
   "cell_type": "code",
   "execution_count": 7,
   "metadata": {},
   "outputs": [
    {
     "data": {
      "image/png": "iVBORw0KGgoAAAANSUhEUgAAAjIAAAHHCAYAAACle7JuAAAAOXRFWHRTb2Z0d2FyZQBNYXRwbG90bGliIHZlcnNpb24zLjYuMywgaHR0cHM6Ly9tYXRwbG90bGliLm9yZy/P9b71AAAACXBIWXMAAA9hAAAPYQGoP6dpAABASElEQVR4nO3de5xNdf///+eegxnMgcGcMsZ5JIeiuEaFopBLJhWXdEV8VAySlOpbpukknbuuXOqqkCs6IiFKYpScDyHnMaKaQTFHZjDz/v3Rzf7Z5mDvsffsWeNxv9327Wav9V5rv96z9u22n9Z6r/eyGWOMAAAALMjH2wUAAACUF0EGAABYFkEGAABYFkEGAABYFkEGAABYFkEGAABYFkEGAABYFkEGAABYFkEGAABYFkEGwCXrwIEDstlseuWVV7xdCoByIsgAqBBpaWkaNWqUmjdvrho1aqhGjRpq2bKlEhMTtXXrVm+XB8Ci/LxdAICqb+HChRowYID8/Pw0aNAgtW3bVj4+Ptq1a5fmzp2rqVOnKi0tTbGxsd4uFYDFEGQAeFRqaqr+8Y9/KDY2VsuWLVNUVJTD+smTJ+s///mPfHxKP0Gcl5enmjVrerpUABbEpSUAHvXSSy8pLy9P06dPLxZiJMnPz09jxoxRTEyMJGnIkCEKCgpSamqqbrnlFgUHB2vQoEGSpO+//1533nmnGjRooICAAMXExOihhx7SyZMnHfZ5dh/79+9Xjx49VLNmTUVHR+uZZ56RMabEOv/73/+qSZMmCggI0DXXXKP169e7+S8BwBM4IwPAoxYuXKimTZuqY8eOTm9z5swZ9ejRQ9ddd51eeeUV1ahRQ5L02Wef6cSJExoxYoTq1KmjdevW6d///rd+/fVXffbZZw77KCwsVM+ePfW3v/1NL730kpYsWaKkpCSdOXNGzzzzjEPb2bNnKycnR/fff79sNpteeukl9evXT/v375e/v//F/xEAeAxBBoDHZGdn6/fff1dCQkKxdZmZmTpz5oz9fc2aNVW9enVJUkFBge68805NmjTJYZvJkyfb20jSfffdp6ZNm+qJJ57QwYMH1aBBA/u6/Px89ezZU//6178kSSNHjlSfPn00efJkjRkzRnXr1rW3PXjwoPbu3avatWtLkuLi4tS3b199/fXX+vvf/37xfwgAHsOlJQAek52dLUkKCgoqtq5r166qV6+e/TVlyhSH9SNGjCi2zbkhJi8vT3/88Yc6deokY4w2b95crP2oUaPs/7bZbBo1apROnTqlb7/91qHdgAED7CFGkq6//npJ0v79+53pJgAv4owMAI8JDg6WJOXm5hZb98477ygnJ0eHDx/W3Xff7bDOz89P9evXL7bNwYMHNXHiRH355Zc6fvy4w7qsrCyH9z4+PmrcuLHDsubNm0v6a/6Yc517JkeSPdSc/xkAKh+CDACPCQ0NVVRUlLZv315s3dkxM+eHCkkKCAgodhdTYWGhbrrpJh07dkwTJkxQixYtVLNmTf32228aMmSIioqKyl2nr69victLGxgMoPLg0hIAj+rdu7f27dundevWXdR+tm3bpj179ujVV1/VhAkT1LdvX3Xv3l3R0dElti8qKip2aWjPnj2SpIYNG15ULQAqD4IMAI969NFHVaNGDQ0dOlSHDx8utt7Zsx5nz5qc294YozfffLPUbd566y2Htm+99Zb8/f3VrVs3Z8sHUMlxaQmARzVr1kyzZ8/WwIEDFRcXZ5/Z1xijtLQ0zZ49Wz4+PiWOiTlXixYt1KRJE40fP16//fabQkJCNGfOnFLHsQQGBmrJkiUaPHiwOnbsqMWLF2vRokV64oknVK9ePU90FYAXEGQAeFzfvn21bds2vfrqq/rmm280bdo02Ww2xcbGqnfv3nrggQfUtm3bMvfh7++vBQsWaMyYMZo0aZICAwN12223adSoUSVu6+vrqyVLlmjEiBF65JFHFBwcrKSkJE2cONFT3QTgBTbDaDYAVcyQIUP0+eefl3i3FICqhTEyAADAsggyAADAsggyAADAshgjAwAALIszMgAAwLIIMgAAwLKq/DwyRUVF+v333xUcHCybzebtcgAAgBOMMcrJyVF0dHSxZ6+dq8oHmd9//10xMTHeLgMAAJTDoUOHypz5u8oHmeDgYEl//SFCQkK8XA0AAHBGdna2YmJi7L/jpanyQebs5aSQkBCCDAAAFnOhYSEM9gUAAJZFkAEAAJZFkAEAAJZFkAEAAJZFkAEAAJZFkAEAAJZFkAEAAJZFkAEAAJZFkAEAAJZV5Wf2BQAA7ldYZLQu7ZiO5OQrPDhQHRqFyden4h/O7NUzMpMmTdI111yj4OBghYeHKyEhQbt373Zo07VrV9lsNofXAw884KWKAQDAku3pum7ydxr47ho9+PEWDXx3ja6b/J2WbE+v8Fq8GmRSUlKUmJioNWvWaOnSpTp9+rRuvvlm5eXlObQbPny40tPT7a+XXnrJSxUDAHBpW7I9XSM+3KT0rHyH5RlZ+Rrx4aYKDzNevbS0ZMkSh/czZsxQeHi4Nm7cqM6dO9uX16hRQ5GRkRVdHgAAOEdhkVHygh0yJawzkmySkhfs0E0tIyvsMlOlGuyblZUlSQoLC3NYPmvWLNWtW1etWrXS448/rhMnTpS6j4KCAmVnZzu8AADAxVuXdqzYmZhzGUnpWflal3aswmqqNIN9i4qKNHbsWF177bVq1aqVffldd92l2NhYRUdHa+vWrZowYYJ2796tuXPnlrifSZMmKTk5uaLKBgDgknEkp/QQU5527lBpgkxiYqK2b9+uH374wWH5fffdZ/9369atFRUVpW7duik1NVVNmjQptp/HH39c48aNs7/Pzs5WTEyM5woHAOASER4c6NZ27lApgsyoUaO0cOFCrVy5UvXr1y+zbceOHSVJ+/btKzHIBAQEKCAgwCN1AgBwKevQKExRoYHKyMovcZyMTVJk6F+3YlcUr46RMcZo1KhRmjdvnr777js1atTogtts2bJFkhQVFeXh6gAAwLl8fWxK6tNS0l+h5Vxn3yf1aVmh88l4NcgkJibqww8/1OzZsxUcHKyMjAxlZGTo5MmTkqTU1FQ9++yz2rhxow4cOKAvv/xS99xzjzp37qw2bdp4s3QAAC5JPVtFaerd7RQZ6nj5KDI0UFPvbqeerSr2RIPNGFPS2aGK+XBbyYlt+vTpGjJkiA4dOqS7775b27dvV15enmJiYnTbbbfpySefVEhIiFOfkZ2drdDQUGVlZTm9DQAAKJunZ/Z19vfbq0GmIhBkAACwHmd/vyvVPDIAAACuIMgAAADLIsgAAADLIsgAAADLIsgAAADLIsgAAADLIsgAAADLIsgAAADLIsgAAADLIsgAAADLIsgAAADLIsgAAADLIsgAAADLIsgAAADLIsgAAADLIsgAAADLIsgAAADLIsgAAADLIsgAAADLIsgAAADLIsgAAADLIsgAAADLIsgAAADLIsgAAADLIsgAAADLIsgAAADLIsgAAADLIsgAAADLIsgAAADLIsgAAADLIsgAAADLIsgAAADLIsgAAADLIsgAAADLIsgAAADLIsgAAADLIsgAAADLIsgAAADLIsgAAADLIsgAAADLIsgAAADLIsgAAADLIsgAAADLIsgAAADLIsgAAADLIsgAAADLIsgAAADLIsgAAADLIsgAAADLIsgAAADLIsgAAADLIsgAAADLIsgAAADLIsgAAADLIsgAAADLIsgAAADLIsgAAADLIsgAAADLIsgAAADL8mqQmTRpkq655hoFBwcrPDxcCQkJ2r17t0Ob/Px8JSYmqk6dOgoKCtLtt9+uw4cPe6liAABQmXg1yKSkpCgxMVFr1qzR0qVLdfr0ad18883Ky8uzt3nooYe0YMECffbZZ0pJSdHvv/+ufv36ebFqAABQWdiMMcbbRZx19OhRhYeHKyUlRZ07d1ZWVpbq1aun2bNn64477pAk7dq1S5dffrlWr16tv/3tbxfcZ3Z2tkJDQ5WVlaWQkBBPdwEAALiBs7/flWqMTFZWliQpLCxMkrRx40adPn1a3bt3t7dp0aKFGjRooNWrV5e4j4KCAmVnZzu8AABA1VRpgkxRUZHGjh2ra6+9Vq1atZIkZWRkqFq1aqpVq5ZD24iICGVkZJS4n0mTJik0NNT+iomJ8XTpAADASypNkElMTNT27dv18ccfX9R+Hn/8cWVlZdlfhw4dclOFAACgsvHzdgGSNGrUKC1cuFArV65U/fr17csjIyN16tQpZWZmOpyVOXz4sCIjI0vcV0BAgAICAjxdMgAAqAS8ekbGGKNRo0Zp3rx5+u6779SoUSOH9e3bt5e/v7+WLVtmX7Z7924dPHhQ8fHxFV0uAACoZLx6RiYxMVGzZ8/W/PnzFRwcbB/3EhoaqurVqys0NFTDhg3TuHHjFBYWppCQEI0ePVrx8fFO3bEEAACqNq/efm2z2UpcPn36dA0ZMkTSXxPiPfzww/roo49UUFCgHj166D//+U+pl5bOx+3XAABYj7O/35VqHhlPIMgAAGA9lpxHBgAAwBUEGQAAYFkEGQAAYFkEGQAAYFluCTKZmZnu2A0AAIBLXA4ykydP1ieffGJ/379/f9WpU0eXXXaZfvrpJ7cWBwAAUBaXg8zbb79tfxDj0qVLtXTpUi1evFi9evXSI4884vYCAQAASuPyzL4ZGRn2ILNw4UL1799fN998sxo2bKiOHTu6vUAAAIDSuHxGpnbt2vYnSi9ZskTdu3eX9NdzkwoLC91bHQAAQBlcPiPTr18/3XXXXWrWrJn+/PNP9erVS5K0efNmNW3a1O0FAgAAlMblIPP666+rYcOGOnTokF566SUFBQVJktLT0zVy5Ei3FwgAAFAanrUEAAAqHWd/v506I/Pll1+qV69e8vf315dffllm21tvvdW1SgEAAMrJqTMyPj4+ysjIUHh4uHx8Sh8fbLPZKt2AX87IAABgPW49I1NUVFTivwEAALzJrc9aOnHihDt3BwAAUCaXg0y3bt3022+/FVu+du1aXXnlle6oCQAAwCkuB5nAwEC1adPG/ryloqIiPf3007r++ut1yy23uL1AAACA0rg8j8yiRYs0ZcoUDR06VPPnz9eBAwf0yy+/aOHChbr55ps9USMAAECJXA4ykpSYmKhff/1VkydPlp+fn1asWKFOnTq5uzYAAIAyuXxp6fjx47r99ts1depUvfPOO/aHRv7nP//xRH0AAAClcvmMTKtWrdSoUSNt3rxZjRo10vDhw/XJJ59o5MiRWrRokRYtWuSJOgEAAIpx+YzMAw88oJUrV6pRo0b2ZQMGDNBPP/2kU6dOubU4AACAsvCsJQAAUOm4dWbfkpw4cUIHDx4sdhamTZs25d0lAACAS1wOMkePHtW9996rxYsXl7i+sj1rCQAAVF0uj5EZO3asMjMztXbtWlWvXl1LlizRBx98oGbNml3wydgAAADu5PIZme+++07z58/X1VdfLR8fH8XGxuqmm25SSEiIJk2apN69e3uiTgAAgGJcPiOTl5en8PBwSVLt2rV19OhRSVLr1q21adMm91YHAABQBpeDTFxcnHbv3i1Jatu2rd555x399ttvevvttxUVFeX2AgEAAErj8qWlBx98UOnp6ZKkpKQk9ezZU7NmzVK1atU0Y8YMd9cHAABQqoueR+bEiRPatWuXGjRooLp167qrLrdhHhkAAKzH2d9vly8tnWvVqlXy9fVVu3btKmWIAQAAVdtFBZlevXrpt99+c1ctAAAALrmoIFPFn24AAAAqOaeDzFdffeXJOgAAAFzmdJDp16+f7rvvPuXm5tqXvfPOO4qIiPBIYQAAABfidJBZu3at1q9frzZt2mjlypWSpLvuuks1a9b0WHEAAABlcTrItG3bVuvXr9c999yjm2++WQ8//LCOHTum7OxshxcAAEBFKdc8Mt98841uueUWh8G+xhjZbLZK9/Rr5pEBAMB6nP39dnlm37lz52rEiBHq3Lmz/t//+3/y83N5FwAAAG7hdArJzMzUyJEjNX/+fL3wwgt68MEHPVkXAADABTkdZFq2bKkGDRpo06ZNiouL82RNAAAATnF6sO/IkSO1atUqQgwAAKg0LvqhkZUdg30BoHIqLDJal3ZMR3LyFR4cqA6NwuTrY/N2WagkPDbYFwCAi7Vke7qSF+xQela+fVlUaKCS+rRUz1ZRXqwMVnNRz1oCAMBVS7ana8SHmxxCjCRlZOVrxIebtGR7upcqgxURZAAAFaawyCh5wQ6VNKbh7LLkBTtUWFSlRz3AjVwKMqdPn1aTJk20c+dOT9UDAKjC1qUdK3Ym5lxGUnpWvtalHau4omBpLgUZf39/5eeX/gUEAKAsR3Kc+w1xth3g8qWlxMRETZ48WWfOnPFEPQCAKiw8ONCt7QCX71pav369li1bpm+++UatW7cu9vTruXPnuq04AEDV0qFRmKJCA5WRlV/iOBmbpMjQv27FBpzhcpCpVauWbr/9dk/UAgCo4nx9bErq01IjPtwkm+QQZs7OIJPUpyXzycBpTIgHAKhwzCODC/H4hHhHjx7V7t27JUlxcXGqV69eeXcFALjE9GwVpZtaRjKzLy6ay0EmLy9Po0eP1syZM1VUVCRJ8vX11T333KN///vfqlGjhtuLBABUPb4+NsU3qePtMmBxLt+1NG7cOKWkpGjBggXKzMxUZmam5s+fr5SUFD388MOeqBEAAKBELo+RqVu3rj7//HN17drVYfny5cvVv39/HT161J31XTTGyAAAYD3O/n67fEbmxIkTioiIKLY8PDxcJ06ccHV3AAAA5eZykImPj1dSUpLDDL8nT55UcnKy4uPjXdrXypUr1adPH0VHR8tms+mLL75wWD9kyBDZbDaHV8+ePV0tGQAAVFEuD/Z944031LNnT9WvX19t27aVJP30008KDAzU119/7dK+8vLy1LZtWw0dOlT9+vUrsU3Pnj01ffp0+/uAgABXSwYAAFWUy0GmdevW2rt3r2bNmqVdu3ZJkgYOHKhBgwapevXqLu2rV69e6tWrV5ltAgICFBkZ6WqZAADgEuBUkGnXrp2WLVum2rVr65lnntH48eM1fPhwT9cmSVqxYoXCw8NVu3Zt3XjjjXruuedUp07pt+sVFBSooKDA/j47O7siygQAAF7g1BiZnTt3Ki8vT5KUnJys3NxcjxZ1Vs+ePTVz5kwtW7ZMkydPVkpKinr16qXCwsJSt5k0aZJCQ0Ptr5iYmAqpFQAAVDynbr+Oj49XUFCQrrvuOiUnJ2v8+PEKCgoqse3EiRPLV4jNpnnz5ikhIaHUNvv371eTJk307bffqlu3biW2KemMTExMDLdfAwBgIW59RMGMGTOUlJSkhQsXymazafHixfLzK76pzWYrd5BxRuPGjVW3bl3t27ev1CATEBDAgGAAAC4RTgWZuLg4ffzxx5IkHx8fLVu2TOHh4R4trCS//vqr/vzzT0VF8UAxAABQjruWzj5fyR1yc3O1b98++/u0tDRt2bJFYWFhCgsLU3Jysm6//XZFRkYqNTVVjz76qJo2baoePXq4rQYAAGBd5X76tTts2LBBN9xwg/39uHHjJEmDBw/W1KlTtXXrVn3wwQfKzMxUdHS0br75Zj377LNcOgIAAJLK8awlq+FZSwAAWI/HnrUEAABQWRBkAACAZZUryGRmZuq9997T448/rmPHjkmSNm3apN9++82txQEAAJTF5cG+W7duVffu3RUaGqoDBw5o+PDhCgsL09y5c3Xw4EHNnDnTE3UCAAAU4/IZmXHjxmnIkCHau3evAgMD7ctvueUWrVy50q3FAQAAlMXlILN+/Xrdf//9xZZfdtllysjIcEtRAAAAznA5yAQEBJT4ROk9e/aoXr16bikKAADAGS4HmVtvvVXPPPOMTp8+Lemv5ysdPHhQEyZM0O233+72AgEAAErjcpB59dVXlZubq/DwcJ08eVJdunRR06ZNFRwcrOeff94TNQIAAJTI5buWQkNDtXTpUv3www/aunWrcnNz1a5dO3Xv3t0T9QEAAJSKRxQAAIBKx9nf73I9NHL9+vVavny5jhw5Uuxp2K+99lp5dgkAAOAyl4PMCy+8oCeffFJxcXGKiIiQzWazrzv33wAAAJ7mcpB58803NW3aNA0ZMsQD5QAAADjP5buWfHx8dO2113qiFgAAAJe4HGQeeughTZkyxRO1AAAAuMTlS0vjx49X79691aRJE7Vs2VL+/v4O6+fOneu24gAAAMricpAZM2aMli9frhtuuEF16tRhgC8AAPAal4PMBx98oDlz5qh3796eqAcAAMBpLo+RCQsLU5MmTTxRCwAAgEtcDjJPP/20kpKSdOLECU/UAwAA4DSXLy3961//UmpqqiIiItSwYcNig303bdrktuIAAADK4nKQSUhI8EAZAAAAruOhkQAAoNJx9vfb5TEyAAAAlYXLl5YKCwv1+uuv69NPP9XBgwd16tQph/XHjh1zW3EAAABlcfmMTHJysl577TUNGDBAWVlZGjdunPr16ycfHx89/fTTHigRAACgZC4HmVmzZundd9/Vww8/LD8/Pw0cOFDvvfeeJk6cqDVr1niiRgAAgBK5HGQyMjLUunVrSVJQUJCysrIkSX//+9+1aNEi91YHAABQBpeDTP369ZWeni5JatKkib755htJ0vr16xUQEODe6gAAAMrgcpC57bbbtGzZMknS6NGj9dRTT6lZs2a65557NHToULcXCAAAUJqLnkdm9erVWr16tZo1a6Y+ffq4qy63YR4ZAACsx9nfb5dvvz5ffHy84uPjL3Y3AAAALitXkNm7d6+WL1+uI0eOqKioyGHdxIkT3VIYAADAhbgcZN59912NGDFCdevWVWRkpGw2m32dzWYjyAAAgArjcpB57rnn9Pzzz2vChAmeqAcAAMBpLt+1dPz4cd15552eqAUAAMAlLgeZO++80z53DAAAgDe5fGmpadOmeuqpp7RmzRq1bt1a/v7+DuvHjBnjtuIAAADK4vI8Mo0aNSp9Zzab9u/ff9FFuRPzyAAAYD0em0cmLS3togoDAABwF5fHyAAAAFQWBBkAAGBZBBkAAGBZBBkAAGBZBBkAAGBZ5Qoy33//ve6++27Fx8frt99+kyT973//0w8//ODW4gAAAMricpCZM2eOevTooerVq2vz5s0qKCiQJGVlZemFF15we4EAAAClcTnIPPfcc3r77bf17rvvOszqe+2112rTpk1uLQ4AAKAsLgeZ3bt3q3PnzsWWh4aGKjMz0x01AQAAOMXlIBMZGal9+/YVW/7DDz+ocePGbikKAADAGS4HmeHDh+vBBx/U2rVrZbPZ9Pvvv2vWrFkaP368RowY4YkaAQAASuTys5Yee+wxFRUVqVu3bjpx4oQ6d+6sgIAAjR8/XqNHj/ZEjQAAACVy+enXZ506dUr79u1Tbm6uWrZsqaCgIHfX5hY8/RoAAOtx9vfb5UtLQ4cOVU5OjqpVq6aWLVuqQ4cOCgoKUl5enoYOHXpRRQMAALjC5SDzwQcf6OTJk8WWnzx5UjNnznRLUQAAAM5weoxMdna2jDEyxignJ0eBgYH2dYWFhfrqq68UHh7ukSIBAABK4nSQqVWrlmw2m2w2m5o3b15svc1mU3JysluLAwAAKIvTQWb58uUyxujGG2/UnDlzFBYWZl9XrVo1xcbGKjo62iNFAgAAlMTpINOlSxdJUlpamho0aCCbzXbRH75y5Uq9/PLL2rhxo9LT0zVv3jwlJCTY1xtjlJSUpHfffVeZmZm69tprNXXqVDVr1uyiPxsAAFifU4N9t27dqqKiIkl/PRxy27Zt2rp1a4kvV+Tl5alt27aaMmVKietfeukl/etf/9Lbb7+ttWvXqmbNmurRo4fy8/Nd+hwAAFA1OTWPjI+PjzIyMhQeHi4fHx/ZbDaVtJnNZlNhYWH5CrHZHM7IGGMUHR2thx9+WOPHj5f0V4iKiIjQjBkz9I9//MOp/TKPDAAA1uPs77dTl5bS0tJUr149+78rQlpamjIyMtS9e3f7stDQUHXs2FGrV68uNcgUFBSooKDA/j47O9vjtQIAAO9w6tJSbGysbDabTp8+reTkZBUVFSk2NrbEl7tkZGRIkiIiIhyWR0RE2NeVZNKkSQoNDbW/YmJi3FYTAACoXFyaEM/f319z5szxVC1u8fjjjysrK8v+OnTokLdLAgAAHuLyzL4JCQn64osvPFCKo8jISEnS4cOHHZYfPnzYvq4kAQEBCgkJcXgBAICqyeWnXzdr1kzPPPOMVq1apfbt26tmzZoO68eMGeOWwho1aqTIyEgtW7ZMV155paS/xrusXbtWI0aMcMtnAAAAa3M5yLz//vuqVauWNm7cqI0bNzqss9lsLgWZ3Nxc7du3z/4+LS1NW7ZsUVhYmBo0aKCxY8fqueeeU7NmzdSoUSM99dRTio6OdphrBgAAXLpcDjLuvGtpw4YNuuGGG+zvx40bJ0kaPHiwZsyYoUcffVR5eXm67777lJmZqeuuu05LlixxeM4TAAC4dDk1j4yVMY8MAADW49Z5ZM41dOjQMtdPmzbN1V0CAACUi8tB5vjx4w7vT58+re3btyszM1M33nij2woDAAC4EJeDzLx584otKyoq0ogRI9SkSRO3FAUAF1JYZLQu7ZiO5OQrPDhQHRqFydfn4h9mC8Ba3DZGZvfu3eratavS09PdsTu3YYwMUPUs2Z6u5AU7lJ71/z9ANio0UEl9WqpnqygvVgbAXZz9/XZ5QrzSpKam6syZM+7aHQCUaMn2dI34cJNDiJGkjKx8jfhwk5Zsr1z/mQLgWS5fWjp7i/RZxhilp6dr0aJFGjx4sNsKA4DzFRYZJS/YoZJOIxtJNknJC3boppaRXGYCLhEuB5nNmzc7vPfx8VG9evX06quvXvCOJgC4GOvSjhU7E3MuIyk9K1/r0o4pvkmdiisMgNe4HGSWL1/uiToA4IKO5JQeYsrTDoD1uRxkzjp69Kh2794tSYqLi1O9evXcVhQAlCQ82LlZvZ1tB8D6XB7sm5eXp6FDhyoqKkqdO3dW586dFR0drWHDhunEiROeqBEAJEkdGoUpKjRQpY1+semvu5c6NAqryLIAeJHLQWbcuHFKSUnRggULlJmZqczMTM2fP18pKSl6+OGHPVEjAEiSfH1sSurTUpKKhZmz75P6tGSgL3AJcXkembp16+rzzz9X165dHZYvX75c/fv319GjR91Z30VjHhmg6mEeGaDq89izlk6cOKGIiIhiy8PDw7m0BKBC9GwVpZtaRjKzLwDXz8h069ZNderU0cyZMxUY+NeAupMnT2rw4ME6duyYvv32W48UWl6ckQEAwHo8dkbmzTffVI8ePVS/fn21bdtWkvTTTz8pMDBQX3/9dfkrBgAAcFG5nrV04sQJzZo1S7t27ZIkXX755Ro0aJCqV6/u9gIvFmdkAACwHo+dkcnPz1eNGjU0fPjwiyoQAADgYrl8+3V4eLgGDx6spUuXqqioyBM1AQAAOMXlIPPBBx/oxIkT6tu3ry677DKNHTtWGzZs8ERtAAAAZXI5yNx222367LPPdPjwYb3wwgvasWOH/va3v6l58+Z65plnPFEjAABAico12Pd8O3bs0KBBg7R161YVFha6oy63YbAvAADW4+zvt8tnZM7Kz8/Xp59+qoSEBLVr107Hjh3TI488Ut7dAQAAuMzlu5a+/vprzZ49W1988YX8/Px0xx136JtvvlHnzp09UR8AAECpXA4yt912m/7+979r5syZuuWWW+Tv7++JugAAAC7I5SBz+PBhBQcHe6IWAAAAl7gcZM4NMfn5+Tp16pTDegbUAgCAiuLyYN+8vDyNGjVK4eHhqlmzpmrXru3wAgAAqCguB5lHH31U3333naZOnaqAgAC99957Sk5OVnR0tGbOnOmJGgEAAErk8qWlBQsWaObMmeratavuvfdeXX/99WratKliY2M1a9YsDRo0yBN1AgAAFOPyGZljx46pcePGkv4aD3Ps2DFJ0nXXXaeVK1e6tzoAAIAyuBxkGjdurLS0NElSixYt9Omnn0r660xNrVq13FocAABAWVwOMvfee69++uknSdJjjz2mKVOmKDAwUA899BAz+wIAgArl9LOW9u/fr0aNGslmszks/+WXX7Rx40Y1bdpUbdq08UiRF4NnLQEAYD1uf9ZSs2bNdPToUfv7AQMG6PDhw4qNjVW/fv0qZYgBAABVm9NB5vwTN1999ZXy8vLcXhAAAICzyv30awAAAG9zOsjYbLZi42POfw8AAFCRnJ4QzxijIUOGKCAgQNJfz1l64IEHVLNmTYd2c+fOdW+FAAAApXA6yAwePNjh/d133+32YgAAAFzhdJCZPn26J+sAAABwGYN9AQCAZRFkAACAZRFkAACAZRFkAACAZRFkAACAZRFkAACAZRFkAACAZRFkAACAZRFkAACAZRFkAACAZRFkAACAZRFkAACAZRFkAACAZRFkAACAZRFkAACAZRFkAACAZRFkAACAZRFkAACAZRFkAACAZVXqIPP000/LZrM5vFq0aOHtsgAAQCXh5+0CLuSKK67Qt99+a3/v51fpSwYAABWk0qcCPz8/RUZGersMAABQCVXqS0uStHfvXkVHR6tx48YaNGiQDh48WGb7goICZWdnO7wAAEDVVKmDTMeOHTVjxgwtWbJEU6dOVVpamq6//nrl5OSUus2kSZMUGhpqf8XExFRgxQAAoCLZjDHG20U4KzMzU7GxsXrttdc0bNiwEtsUFBSooKDA/j47O1sxMTHKyspSSEhIRZUKAAAuQnZ2tkJDQy/4+13px8icq1atWmrevLn27dtXapuAgAAFBARUYFUAAMBbKvWlpfPl5uYqNTVVUVFR3i4FAABUApU6yIwfP14pKSk6cOCAfvzxR912223y9fXVwIEDvV0aAACoBCr1paVff/1VAwcO1J9//ql69erpuuuu05o1a1SvXj1vlwYAACqBSh1kPv74Y2+XAAAAKrFKfWkJAACgLAQZAABgWZX60hLgKYVFRuvSjulITr7CgwPVoVGYfH1s3i4LAOAiggwuOUu2pyt5wQ6lZ+Xbl0WFBiqpT0v1bMWt/QBgJVxawiVlyfZ0jfhwk0OIkaSMrHyN+HCTlmxP91JlAIDyIMjgklFYZJS8YIdKeibH2WXJC3aosMgyT+0AgEseQQaXjHVpx4qdiTmXkZSela91accqrigAwEUhyOCScSSn9BBTnnYAAO8jyOCSER4c6NZ2AADvI8jgktGhUZiiQgNV2k3WNv1191KHRmEVWRYA4CIQZHDJ8PWxKalPS0kqFmbOvk/q05L5ZADAQggyuKT0bBWlqXe3U2So4+WjyNBATb27HfPIAIDFMCEeLjk9W0XpppaRzOwLAFUAQQaXJF8fm+Kb1PF2GQCAi8SlJQAAYFkEGQAAYFkEGQAAYFkEGQAAYFkEGQAAYFkEGQAAYFkEGQAAYFkEGQAAYFkEGQAAYFkEGQAAYFkEGQAAYFkEGQAAYFkEGQAAYFkEGQAAYFkEGQAAYFkEGQAAYFkEGQAAYFkEGQAAYFkEGQAAYFkEGQAAYFkEGQAAYFkEGQAAYFkEGQAAYFkEGQAAYFkEGQAAYFkEGQAAYFkEGQAAYFkEGQAAYFkEGQAAYFkEGQAAYFl+3i7AigqLjNalHdORnHyFBweqQ6Mw+frYvF0WAACXHIKMi5ZsT1fygh1Kz8q3L4sKDVRSn5bq2SrKi5UBAHDp4dKSC5ZsT9eIDzc5hBhJysjK14gPN2nJ9nQvVQYAwKWJIOOkwiKj5AU7ZEpYd3ZZ8oIdKiwqqQUAAPAEgoyT1qUdK3Ym5lxGUnpWvtalHau4ogAAuMQRZJx0JKf0EFOedgAA4OIRZJwUHhzo1nYAAODiEWSc1KFRmKJCA1XaTdY2/XX3UodGYRVZFgAAlzSCjJN8fWxK6tNSkoqFmbPvk/q0ZD4ZAAAqEEHGBT1bRWnq3e0UGep4+SgyNFBT727HPDIAAFQwJsRzUc9WUbqpZSQz+wIAUAkQZMrB18em+CZ1vF0GAACXPC4tAQAAyyLIAAAAyyLIAAAAy7JEkJkyZYoaNmyowMBAdezYUevWrfN2SQAAoBKo9EHmk08+0bhx45SUlKRNmzapbdu26tGjh44cOeLt0gAAgJdV+iDz2muvafjw4br33nvVsmVLvf3226pRo4amTZvm7dIAAICXVeogc+rUKW3cuFHdu3e3L/Px8VH37t21evXqErcpKChQdna2wwsAAFRNlTrI/PHHHyosLFRERITD8oiICGVkZJS4zaRJkxQaGmp/xcTEVESpAADACyp1kCmPxx9/XFlZWfbXoUOHvF0SAADwkEo9s2/dunXl6+urw4cPOyw/fPiwIiMjS9wmICBAAQEB9vfGGEniEhMAABZy9nf77O94aSp1kKlWrZrat2+vZcuWKSEhQZJUVFSkZcuWadSoUU7tIycnR5K4xAQAgAXl5OQoNDS01PWVOshI0rhx4zR48GBdffXV6tChg9544w3l5eXp3nvvdWr76OhoHTp0SMHBwbLZ3Pdgx+zsbMXExOjQoUMKCQlx234rk6rex6reP6nq95H+WV9V7yP9Kz9jjHJychQdHV1mu0ofZAYMGKCjR49q4sSJysjI0JVXXqklS5YUGwBcGh8fH9WvX99j9YWEhFTJL+e5qnofq3r/pKrfR/pnfVW9j/SvfMo6E3NWpQ8ykjRq1CinLyUBAIBLR5W7awkAAFw6CDLlFBAQoKSkJIc7pKqaqt7Hqt4/qer3kf5ZX1XvI/3zPJu50H1NAAAAlRRnZAAAgGURZAAAgGURZAAAgGURZAAAgGURZEqxcuVK9enTR9HR0bLZbPriiy8uuM2KFSvUrl07BQQEqGnTppoxY4bH6ywvV/u3YsUK2Wy2Yq/SnkLubZMmTdI111yj4OBghYeHKyEhQbt3777gdp999platGihwMBAtW7dWl999VUFVFs+5enjjBkzih3DwMDACqrYNVOnTlWbNm3sE23Fx8dr8eLFZW5jpePnav+sdOxK8uKLL8pms2ns2LFltrPSMTyfM3200nF8+umni9XaokWLMrfxxvEjyJQiLy9Pbdu21ZQpU5xqn5aWpt69e+uGG27Qli1bNHbsWP3f//2fvv76aw9XWj6u9u+s3bt3Kz093f4KDw/3UIUXJyUlRYmJiVqzZo2WLl2q06dP6+abb1ZeXl6p2/z4448aOHCghg0bps2bNyshIUEJCQnavn17BVbuvPL0UfprBs5zj+Evv/xSQRW7pn79+nrxxRe1ceNGbdiwQTfeeKP69u2rn3/+ucT2Vjt+rvZPss6xO9/69ev1zjvvqE2bNmW2s9oxPJezfZSsdRyvuOIKh1p/+OGHUtt67fgZXJAkM2/evDLbPProo+aKK65wWDZgwADTo0cPD1bmHs70b/ny5UaSOX78eIXU5G5HjhwxkkxKSkqpbfr372969+7tsKxjx47m/vvv93R5buFMH6dPn25CQ0Mrrig3q127tnnvvfdKXGf142dM2f2z6rHLyckxzZo1M0uXLjVdunQxDz74YKltrXoMXemjlY5jUlKSadu2rdPtvXX8OCPjJqtXr1b37t0dlvXo0UOrV6/2UkWeceWVVyoqKko33XSTVq1a5e1ynJaVlSVJCgsLK7WN1Y+hM32UpNzcXMXGxiomJuaCZwAqi8LCQn388cfKy8tTfHx8iW2sfPyc6Z9kzWOXmJio3r17Fzs2JbHqMXSlj5K1juPevXsVHR2txo0ba9CgQTp48GCpbb11/CzxrCUryMjIKPYgy4iICGVnZ+vkyZOqXr26lypzj6ioKL399tu6+uqrVVBQoPfee09du3bV2rVr1a5dO2+XV6aioiKNHTtW1157rVq1alVqu9KOYWUdB3QuZ/sYFxenadOmqU2bNsrKytIrr7yiTp066eeff/bow1XLa9u2bYqPj1d+fr6CgoI0b948tWzZssS2Vjx+rvTPasdOkj7++GNt2rRJ69evd6q9FY+hq3200nHs2LGjZsyYobi4OKWnpys5OVnXX3+9tm/fruDg4GLtvXX8CDJwSlxcnOLi4uzvO3XqpNTUVL3++uv63//+58XKLiwxMVHbt28v89qu1Tnbx/j4eIf/8Xfq1EmXX3653nnnHT377LOeLtNlcXFx2rJli7KysvT5559r8ODBSklJKfXH3mpc6Z/Vjt2hQ4f04IMPaunSpZV2MOvFKk8frXQce/XqZf93mzZt1LFjR8XGxurTTz/VsGHDvFiZI4KMm0RGRurw4cMOyw4fPqyQkBDLn40pTYcOHSp9OBg1apQWLlyolStXXvB/O6Udw8jISE+WeNFc6eP5/P39ddVVV2nfvn0equ7iVKtWTU2bNpUktW/fXuvXr9ebb76pd955p1hbKx4/V/p3vsp+7DZu3KgjR444nLEtLCzUypUr9dZbb6mgoEC+vr4O21jtGJanj+er7MfxXLVq1VLz5s1LrdVbx48xMm4SHx+vZcuWOSxbunRpmde7rW7Lli2KiorydhklMsZo1KhRmjdvnr777js1atTogttY7RiWp4/nKyws1LZt2yrtcTxfUVGRCgoKSlxnteNXkrL6d77Kfuy6deumbdu2acuWLfbX1VdfrUGDBmnLli0l/sBb7RiWp4/nq+zH8Vy5ublKTU0ttVavHT+PDiW2sJycHLN582azefNmI8m89tprZvPmzeaXX34xxhjz2GOPmX/+85/29vv37zc1atQwjzzyiNm5c6eZMmWK8fX1NUuWLPFWF8rkav9ef/1188UXX5i9e/eabdu2mQcffND4+PiYb7/91ltdKNOIESNMaGioWbFihUlPT7e/Tpw4YW/zz3/+0zz22GP296tWrTJ+fn7mlVdeMTt37jRJSUnG39/fbNu2zRtduKDy9DE5Odl8/fXXJjU11WzcuNH84x//MIGBgebnn3/2RhfK9Nhjj5mUlBSTlpZmtm7dah577DFjs9nMN998Y4yx/vFztX9WOnalOf+OHqsfw5JcqI9WOo4PP/ywWbFihUlLSzOrVq0y3bt3N3Xr1jVHjhwxxlSe40eQKcXZ243Pfw0ePNgYY8zgwYNNly5dim1z5ZVXmmrVqpnGjRub6dOnV3jdznK1f5MnTzZNmjQxgYGBJiwszHTt2tV899133ineCSX1TZLDMenSpYu9v2d9+umnpnnz5qZatWrmiiuuMIsWLarYwl1Qnj6OHTvWNGjQwFSrVs1ERESYW265xWzatKnii3fC0KFDTWxsrKlWrZqpV6+e6datm/1H3hjrHz9X+2elY1ea83/krX4MS3KhPlrpOA4YMMBERUWZatWqmcsuu8wMGDDA7Nu3z76+shw/mzHGePacDwAAgGcwRgYAAFgWQQYAAFgWQQYAAFgWQQYAAFgWQQYAAFgWQQYAAFgWQQYAAFgWQQaoIp5++mldeeWVbt9vRkaGbrrpJtWsWVO1atVyapsVK1bIZrMpMzPT7fV4y6pVq9S6dWv5+/srISHB45934MAB2Ww2bdmyxeOfVVFsNpu++OILb5eBKoYgg0va6tWr5evrq969e3u7lIs2fvz4Ys85cYfXX39d6enp2rJli/bs2eP2/VvFuHHjdOWVVyotLU0zZsxw676HDBlSIeFIkiZMmKCGDRsqJyfHYXmfPn3UuXNnFRUVeeyz09PTHZ6oDLgDQQaXtPfff1+jR4/WypUr9fvvv3u7nIsSFBSkOnXquH2/qampat++vZo1a6bw8HC3798qUlNTdeONN6p+/fpOn5k636lTp9xbVDk888wzCgoK0rhx4+zLpk2bpuXLl2v69Ony8fHcz0JkZKQCAgI8tn9cojz+EASgksrJyTFBQUFm165dZsCAAeb555+/4DaxsbHm2WefNf/85z9NzZo1TYMGDcz8+fPNkSNHzK233mpq1qxpWrdubdavX++w3ffff2+uu+46ExgYaOrXr29Gjx5tcnNz7etnzpxp2rdvb4KCgkxERIQZOHCgOXz4sH392Wdjffvtt6Z9+/amevXqJj4+3uzatcveJikpybRt29b+fvDgwaZv377m5ZdfNpGRkSYsLMyMHDnSnDp1yt7m999/N7fccosJDAw0DRs2NLNmzTKxsbHm9ddft/dX5z2LKy0tzUgymzdvtu/n+PHjRpJZvny5Q73Hjx8v9W8pybz77rsmISHBVK9e3TRt2tTMnz/fvv7MmTNm6NChpmHDhiYwMNA0b97cvPHGGw77ONvH559/3oSHh5vQ0FCTnJxsTp8+bcaPH29q165tLrvsMjNt2jSH7Q4ePGjuvPNOExoaamrXrm1uvfVWk5aWVmKdZ/urEp5ntWLFCnPNNdeYatWqmcjISDNhwgRz+vRp+7ZdunQxiYmJ5sEHHzR16tQxXbt2Lbb/pKSkYvtfvny5/XPnzJljunbtaqpXr27atGljfvzxR4ftL/TdKsmGDRuMv7+/Wbx4sfnll19MSEiImTJlSpnbXOg7mpycbKKioswff/xhX3bLLbeYrl27msLCQmPMX8d83rx5xhhjCgoKTGJioomMjDQBAQGmQYMG5oUXXiizBqAkBBlcst5//31z9dVXG2OMWbBggWnSpIkpKioqc5vY2FgTFhZm3n77bbNnzx4zYsQIExISYnr27Gk+/fRTs3v3bpOQkGAuv/xy+7727dtnatasaV5//XWzZ88es2rVKnPVVVeZIUOGONTy1VdfmdTUVLN69WoTHx9vevXqZV9/Nhh07NjRrFixwvz888/m+uuvN506dbK3KSnIhISEmAceeMDs3LnTLFiwwNSoUcP897//tbfp3r27ufLKK82aNWvMxo0bTZcuXUz16tXtQebIkSOmZ8+epn///iY9Pd1kZma6NcjUr1/fzJ492+zdu9eMGTPGBAUFmT///NMYY8ypU6fMxIkTzfr1683+/fvNhx9+aGrUqGE++eQThz4GBwebxMREs2vXLvP+++8bSaZHjx7m+eefN3v27DHPPvus8ff3N4cOHbLv9/LLLzdDhw41W7duNTt27DB33XWXiYuLMwUFBcXqPHPmjElPTzchISHmjTfesD9h/NdffzU1atQwI0eONDt37jTz5s0zdevWNUlJSfZtu3TpYoKCgswjjzxidu3a5RA8z8rJyTH9+/c3PXv2tD/BvKCgwP53btGihVm4cKHZvXu3ueOOO0xsbKw9LDnz3SrNxIkTzWWXXWY6d+5sunfvfsHv/oW+o2fOnDHx8fEmISHBGGPMW2+9ZWrVqmV++eUXe5tzg8zLL79sYmJizMqVK82BAwfM999/b2bPnn3BuoHzEWRwyerUqZP9f/inT582devWtf8QlyY2Ntbcfffd9vfp6elGknnqqafsy1avXm0kmfT0dGOMMcOGDTP33Xefw36+//574+PjY06ePFni56xfv95IMjk5OcYYxzMyZy1atMhIsu+jpCATGxtrzpw5Y1925513mgEDBhhjjNm5c6eR5HD2aO/evUaSPcgYY0zfvn0dnnDrziDz5JNP2t/n5uYaSWbx4sWlbpOYmGhuv/32Yn08+z9+Y4yJi4sz119/vf39mTNnTM2aNc1HH31kjDHmf//7n4mLi3P44S4oKDDVq1c3X3/9damfHRoa6vBk8SeeeKLYfqZMmWKCgoLs9XTp0sVcddVVpe7z3H707dvXYdnZv/N7771nX/bzzz8bSWbnzp3GmPJ9t846deqUiYmJMQEBAQ5hw1nnf0eNMSY1NdUEBwebCRMmmOrVq5tZs2Y5bHNukBk9erS58cYbLxiggAthjAwuSbt379a6des0cOBASZKfn58GDBig999//4LbtmnTxv7viIgISVLr1q2LLTty5Igk6aefftKMGTMUFBRkf/Xo0UNFRUVKS0uTJG3cuFF9+vRRgwYNFBwcrC5dukiSDh48WOpnR0VFOXxOSa644gr5+vo6bHO2/e7du+Xn56d27drZ1zdt2lS1a9e+4N/AXc7tT82aNRUSEuLQnylTpqh9+/aqV6+egoKC9N///rfY3+SKK65wGNcRERHhcDx8fX1Vp04dh+Oxb98+BQcH249HWFiY8vPzlZqa6nTtO3fuVHx8vGw2m33Ztddeq9zcXP3666/2Ze3bt3d6nyUp65g7890qzdKlS5WRkaGioiKtX7/evnzWrFkO+/v+++8lOfcdbdy4sV555RVNnjxZt956q+66665SP3/IkCHasmWL4uLiNGbMGH3zzTcu/mWAv/h5uwDAG95//32dOXNG0dHR9mXGGAUEBOitt95SaGhoqdv6+/vb/332R6ykZWfv/sjNzdX999+vMWPGFNtXgwYNlJeXpx49eqhHjx6aNWuW6tWrp4MHD6pHjx7FBoeW9TkXqvXsNhd7V8rZ0GCMsS87ffp0ufZVVn0ff/yxxo8fr1dffVXx8fEKDg7Wyy+/rLVr115wH2XtNzc3V+3bt9esWbOK1VOvXr1y9aMsNWvWvKjtL+a7VZrjx49r+PDhevLJJ2WM0ciRI9WlSxfVrVtXt956qzp27Ghve9lll7n0HV25cqV8fX114MABnTlzRn5+Jf/MtGvXTmlpaVq8eLG+/fZb9e/fX927d9fnn3/u/B8HEEEGl6AzZ85o5syZevXVV3XzzTc7rEtISNBHH32kBx54wG2f165dO+3YsUNNmzYtcf22bdv0559/6sUXX1RMTIwkacOGDW77/NLExcXpzJkz2rx5s/2swb59+3T8+PEytzv7Y5+enq6rrrpKkjwy18mqVavUqVMnjRw50r7MlTMmpWnXrp0++eQThYeHKyQkpNz7ufzyyzVnzhwZY+wBY9WqVQoODlb9+vVd2le1atVUWFjocg0X+m6VZvTo0YqMjNQTTzwhSZo/f74SExP1ySefKDg4WMHBwQ7tN27c6NR39JNPPtHcuXO1YsUK9e/fX88++6ySk5NLrSMkJEQDBgzQgAEDdMcdd6hnz546duyYwsLCXOoPLm1cWsIlZ+HChTp+/LiGDRumVq1aObxuv/12py4vuWLChAn68ccfNWrUKG3ZskV79+7V/PnzNWrUKEl//c+5WrVq+ve//639+/fryy+/1LPPPuvWGkrSokULde/eXffdd5/WrVunzZs367777lP16tUdLpecr3r16vrb3/6mF198UTt37lRKSoqefPJJt9fXrFkzbdiwQV9//bX27Nmjp556yuESSHkNGjRIdevWVd++ffX9998rLS1NK1as0JgxYxwuCV3IyJEjdejQIY0ePVq7du3S/PnzlZSUpHHjxrl8C3PDhg21detW7d69W3/88YfTZ7gu9N0qybx58/TZZ5/pgw8+kJ+fn/z8/PTBBx/oiy++0Jw5c0rcxpnv6K+//qoRI0Zo8uTJuu666zR9+nS98MILWrNmTYn7fO211/TRRx9p165d2rNnjz777DNFRkaW+9Z2XLoIMrjkvP/+++revXuJl49uv/12bdiwQVu3bnXb57Vp00YpKSnas2ePrr/+el111VWaOHGi/bJWvXr1NGPGDH322Wdq2bKlXnzxRb3yyitu+/yyzJw5UxEREercubNuu+02DR8+XMHBwQoMDCxzu2nTpunMmTNq3769xo4dq+eee87ttd1///3q16+fBgwYoI4dO+rPP/90ODtTXjVq1NDKlSvVoEED9evXT5dffrmGDRum/Px8l87QXHbZZfrqq6+0bt06tW3bVg888ICGDRtWrlA3fPhwxcXF6eqrr1a9evW0atUqp7a70HfrfH/88YceeOABJSUlqVWrVvblrVu3VlJSkkaOHKk//vij2HYX+o4aYzRkyBB16NDBHqJ69OihESNG6O6771Zubm6xfQYHB+ull17S1VdfrWuuuUYHDhzQV1995dF5bFA12cy5F7oBXNJ+/fVXxcTE6Ntvv1W3bt28XQ4AXBBBBriEfffdd8rNzVXr1q2Vnp6uRx99VL/99pv27NlTbMAsAFRGDPYFLmGnT5/WE088of379ys4OFidOnXSrFmzCDEALIMzMgAAwLIYVQUAACyLIAMAACyLIAMAACyLIAMAACyLIAMAACyLIAMAACyLIAMAACyLIAMAACyLIAMAACzr/wNXtOnY5f7DNwAAAABJRU5ErkJggg==",
      "text/plain": [
       "<Figure size 640x480 with 1 Axes>"
      ]
     },
     "metadata": {},
     "output_type": "display_data"
    }
   ],
   "source": [
    "plt.scatter(x = list_numbers, y = list_numbers_sqr)\n",
    "plt.xlabel(\"A meaningful name for the X-axis\")\n",
    "plt.ylabel(\"Favourite name for Y-axis\")\n",
    "plt.title(\"Graph\")\n",
    "plt.show()"
   ]
  },
  {
   "cell_type": "code",
   "execution_count": 42,
   "metadata": {},
   "outputs": [],
   "source": [
    "# Create a list with numbers, then create your own scatter plot\n",
    "\n",
    "\n"
   ]
  },
  {
   "attachments": {},
   "cell_type": "markdown",
   "metadata": {},
   "source": [
    "# <span style=\"color:darkblue\"> Additional Resources </span>\n",
    "\n",
    "<font size=\"5\"> \n",
    "\n",
    "Check out additional examples at:\n",
    "\n",
    "- https://allendowney.github.io/ElementsOfDataScience/01_variables.html\n",
    "- https://allendowney.github.io/ElementsOfDataScience/03_arrays.html\n",
    "\n"
   ]
  },
  {
   "attachments": {},
   "cell_type": "markdown",
   "metadata": {},
   "source": [
    "# <span style=\"color:darkblue\"> (Optional) Common Pitfalls </span>\n",
    "\n",
    "<font size=\"5\"> \n",
    "\n",
    "It's very common to enter a command incorrectly\n",
    "- There will be an arrow pointing to the problematic line\n",
    "- Focus on the message following \"NameError\""
   ]
  },
  {
   "attachments": {},
   "cell_type": "markdown",
   "metadata": {},
   "source": [
    "<font size=\"5\"> \n",
    "\n",
    "Pro Tip:\n",
    "- Type in google the message for \"NameError\" plus the word Python\n",
    "- Somebody may have a solution/explanation!"
   ]
  },
  {
   "attachments": {},
   "cell_type": "markdown",
   "metadata": {},
   "source": [
    "<font size=\"5\"> \n",
    "\n",
    "Example 1: Not including quotations"
   ]
  },
  {
   "cell_type": "code",
   "execution_count": 44,
   "metadata": {},
   "outputs": [
    {
     "ename": "NameError",
     "evalue": "name 'hello' is not defined",
     "output_type": "error",
     "traceback": [
      "\u001b[0;31m---------------------------------------------------------------------------\u001b[0m",
      "\u001b[0;31mNameError\u001b[0m                                 Traceback (most recent call last)",
      "Cell \u001b[0;32mIn[44], line 3\u001b[0m\n\u001b[1;32m      1\u001b[0m \u001b[39m# When you don't include quotation marks,\u001b[39;00m\n\u001b[1;32m      2\u001b[0m \u001b[39m# Python will try to search for a variable called Hello\u001b[39;00m\n\u001b[0;32m----> 3\u001b[0m \u001b[39mtype\u001b[39m(hello)\n",
      "\u001b[0;31mNameError\u001b[0m: name 'hello' is not defined"
     ]
    }
   ],
   "source": [
    "# When you don't include quotation marks,\n",
    "# Python will try to search for a variable called Hello\n",
    "type(hello)"
   ]
  },
  {
   "cell_type": "code",
   "execution_count": 45,
   "metadata": {},
   "outputs": [
    {
     "data": {
      "text/plain": [
       "str"
      ]
     },
     "execution_count": 45,
     "metadata": {},
     "output_type": "execute_result"
    }
   ],
   "source": [
    "# This commands works if we already defined a variable, e.g.\n",
    "type(message_hello)"
   ]
  },
  {
   "attachments": {},
   "cell_type": "markdown",
   "metadata": {},
   "source": [
    "<font size=\"5\"> \n",
    "\n",
    "Examples 2: Operations with mixed types don't work"
   ]
  },
  {
   "cell_type": "code",
   "execution_count": 12,
   "metadata": {},
   "outputs": [
    {
     "ename": "TypeError",
     "evalue": "can only concatenate str (not \"int\") to str",
     "output_type": "error",
     "traceback": [
      "\u001b[0;31m---------------------------------------------------------------------------\u001b[0m",
      "\u001b[0;31mTypeError\u001b[0m                                 Traceback (most recent call last)",
      "Cell \u001b[0;32mIn[12], line 2\u001b[0m\n\u001b[1;32m      1\u001b[0m \u001b[39m# If you add a number and a string you get a concatenated string\u001b[39;00m\n\u001b[0;32m----> 2\u001b[0m \u001b[39mprint\u001b[39m(\u001b[39m\"\u001b[39;49m\u001b[39mhola\u001b[39;49m\u001b[39m\"\u001b[39;49m \u001b[39m+\u001b[39;49m number3)\n",
      "\u001b[0;31mTypeError\u001b[0m: can only concatenate str (not \"int\") to str"
     ]
    }
   ],
   "source": [
    "# If you add a number and a string you get a concatenated string\n",
    "print(\"hola\" + number3)"
   ]
  },
  {
   "cell_type": "code",
   "execution_count": 13,
   "metadata": {},
   "outputs": [
    {
     "name": "stdout",
     "output_type": "stream",
     "text": [
      "hola3\n"
     ]
    }
   ],
   "source": [
    "# You can convert an integer to string first\n",
    "print(\"hola\" + str(number3))"
   ]
  },
  {
   "attachments": {},
   "cell_type": "markdown",
   "metadata": {},
   "source": [
    "<font size=\"5\"> \n",
    "\n",
    "Examples 3: Not all mathematical operations on numeric lists work\n",
    "\n",
    "- We need a different object: arrays!\n",
    "- We'll look into this in future classes"
   ]
  },
  {
   "cell_type": "code",
   "execution_count": 63,
   "metadata": {},
   "outputs": [
    {
     "ename": "TypeError",
     "evalue": "unsupported operand type(s) for /: 'list' and 'int'",
     "output_type": "error",
     "traceback": [
      "\u001b[0;31m---------------------------------------------------------------------------\u001b[0m",
      "\u001b[0;31mTypeError\u001b[0m                                 Traceback (most recent call last)",
      "Cell \u001b[0;32mIn[63], line 1\u001b[0m\n\u001b[0;32m----> 1\u001b[0m list_numbers \u001b[39m/\u001b[39;49m \u001b[39m2\u001b[39;49m\n",
      "\u001b[0;31mTypeError\u001b[0m: unsupported operand type(s) for /: 'list' and 'int'"
     ]
    }
   ],
   "source": [
    "list_numbers / 2"
   ]
  }
 ],
 "metadata": {
  "kernelspec": {
   "display_name": "Python 3",
   "language": "python",
   "name": "python3"
  },
  "language_info": {
   "codemirror_mode": {
    "name": "ipython",
    "version": 3
   },
   "file_extension": ".py",
   "mimetype": "text/x-python",
   "name": "python",
   "nbconvert_exporter": "python",
   "pygments_lexer": "ipython3",
   "version": "3.11.1 (v3.11.1:a7a450f84a, Dec  6 2022, 15:24:06) [Clang 13.0.0 (clang-1300.0.29.30)]"
  },
  "orig_nbformat": 4,
  "vscode": {
   "interpreter": {
    "hash": "aee8b7b246df8f9039afb4144a1f6fd8d2ca17a180786b69acc140d282b71a49"
   }
  }
 },
 "nbformat": 4,
 "nbformat_minor": 2
}
